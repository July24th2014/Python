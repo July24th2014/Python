{
 "cells": [
  {
   "cell_type": "code",
   "execution_count": 4,
   "id": "8fcbab41",
   "metadata": {},
   "outputs": [
    {
     "name": "stdout",
     "output_type": "stream",
     "text": [
      "Enter your name: thinh\n",
      "How many times you take shower in a week:5\n",
      "thinh, You Shower just Enough\n"
     ]
    }
   ],
   "source": [
    "name = input(\"Enter your name: \")\n",
    "\n",
    "time = int(input(\"How many times you take shower in a week:\" ))\n",
    "\n",
    "\n",
    "if time>0:\n",
    "    if (time<=1):\n",
    "        print(name + \", You NEED to Take a shower ASAP\")\n",
    "    elif (time<=3):\n",
    "        print(name + \", You Don’t Shower Enough\")\n",
    "    elif (time<=5):\n",
    "        print(name + \", You Shower just Enough\")\n",
    "    elif (time<=7):\n",
    "        print(name + \", You Shower Too Much\")\n",
    "    else: \n",
    "        print(name + \", You need to find a doctor\")\n",
    "else:\n",
    "            print(\"Enter valid input\")"
   ]
  },
  {
   "cell_type": "code",
   "execution_count": null,
   "id": "6df2653c",
   "metadata": {},
   "outputs": [],
   "source": []
  },
  {
   "cell_type": "code",
   "execution_count": null,
   "id": "27e28997",
   "metadata": {},
   "outputs": [],
   "source": []
  },
  {
   "cell_type": "code",
   "execution_count": null,
   "id": "318d043f",
   "metadata": {},
   "outputs": [],
   "source": []
  }
 ],
 "metadata": {
  "kernelspec": {
   "display_name": "Python 3 (ipykernel)",
   "language": "python",
   "name": "python3"
  },
  "language_info": {
   "codemirror_mode": {
    "name": "ipython",
    "version": 3
   },
   "file_extension": ".py",
   "mimetype": "text/x-python",
   "name": "python",
   "nbconvert_exporter": "python",
   "pygments_lexer": "ipython3",
   "version": "3.11.4"
  }
 },
 "nbformat": 4,
 "nbformat_minor": 5
}
