{
 "cells": [
  {
   "cell_type": "code",
   "execution_count": 1,
   "id": "8385dd00",
   "metadata": {},
   "outputs": [
    {
     "name": "stdout",
     "output_type": "stream",
     "text": [
      "Enter Starting Measurement in Inches: 2\n",
      "Enter Starting Measurement in Feet: 2\n",
      "Enter Starting Measurement in Yards: 2\n",
      "Enter Starting of Measurement (inches, feet, yards): 2\n",
      "Enter Starting of Measurement to (inches, feet, yards): 2\n"
     ]
    }
   ],
   "source": [
    "number_of_inches = input (\"Enter Starting Measurement in Inches: \")\n",
    "\n",
    "number_of_feet = input (\"Enter Starting Measurement in Feet: \")\n",
    "\n",
    "number_of_yards = input (\"Enter Starting Measurement in Yards: \")\n",
    "\n",
    "convert_from = input (\"Enter Starting of Measurement (inches, feet, yards): \")\n",
    "\n",
    "convert_to = input (\"Enter Starting of Measurement to (inches, feet, yards): \")"
   ]
  },
  {
   "cell_type": "code",
   "execution_count": 16,
   "id": "fbc3bfa8",
   "metadata": {},
   "outputs": [
    {
     "name": "stdout",
     "output_type": "stream",
     "text": [
      "Enter Starting of Measurement (inches, feet, yards): feet\n",
      "Enter Starting of Measurement to (inches, feet, yards): yd\n",
      "Enter Starting Measurement in Feet: 43\n",
      "Result: 43 Feet = 14.33 Yards\n"
     ]
    }
   ],
   "source": [
    "convert_from = input (\"Enter Starting of Measurement (inches, feet, yards): \")\n",
    "\n",
    "convert_to = input (\"Enter Starting of Measurement to (inches, feet, yards): \")\n",
    "\n",
    "if convert_from.lower() in [\"inches\", \"in\", \"inch\"]:\n",
    "    number_of_inches = int(input(\"Enter Starting Measurement in Inches: \"))\n",
    "    if convert_to.lower() in [\"feet\", \"foot\", \"ft\"]:\n",
    "        print(\"Result: \" + str(number_of_inches) + \" Inches = \" + str(round(number_of_inches / 12,2)) + \" Feet\")\n",
    "    elif convert_from.to() in [\"yard\", \"yards\", \"yds\", \"yd\"]:\n",
    "        print(\"Result: \" + str(number_of_inches) + \" Inches = \" + str(round(number_of_inches / 36,2)) + \" Yards\")\n",
    "    else:\n",
    "        print(\"Please Enter Measurement (inches, feet, yards).\")\n",
    "elif convert_from.lower() in [\"feet\", \"foot\", \"ft\"]:\n",
    "    number_of_feet = int(input(\"Enter Starting Measurement in Feet: \"))\n",
    "    if convert_to.lower() in [\"inches\", \"in\", \"inch\"]:\n",
    "        print(\"Result: \" + str(number_of_feet) + \" Feet = \" + str(round(number_of_feet * 12)) + \" Inches\")\n",
    "    elif convert_to.lower() in [\"yard\", \"yards\", \"yds\", \"yd\"]:\n",
    "        print(\"Result: \" + str(number_of_feet) + \" Feet = \" + str(round(number_of_feet / 3,2)) + \" Yards\")\n",
    "    else:\n",
    "        print(\"Please Enter Measurement (inches, feet, yards).\")\n",
    "elif convert_from.lower() in [\"yard\", \"yards\", \"yds\", \"yd\"]:\n",
    "    number_of_yards = int(input(\"Enter Starting Measurement in Yards: \"))\n",
    "    if convert_to.lower() in [\"inches\", \"in\", \"inch\"]:\n",
    "        print(\"Result: \" + str(number_of_yards) + \" Yards = \" + str(round(number_of_yards * 36)) + \" Inches\")\n",
    "    elif convert_to.lower() in [\"feet\", \"foot\", \"ft\"]:\n",
    "        print(\"Result: \" + str(number_of_yards) + \" Yards = \" + str(round(number_of_yards * 3)) + \" Feet\")\n",
    "    else:\n",
    "        print(\"Please Enter Measurement (inches, feet, yards).\")\n",
    "else:\n",
    "    print(\"Please Enter Measurement (inches, feet, yards).\")"
   ]
  },
  {
   "cell_type": "code",
   "execution_count": null,
   "id": "17040c4c",
   "metadata": {},
   "outputs": [],
   "source": []
  },
  {
   "cell_type": "code",
   "execution_count": null,
   "id": "47d705c8",
   "metadata": {},
   "outputs": [],
   "source": []
  },
  {
   "cell_type": "code",
   "execution_count": null,
   "id": "009a9e63",
   "metadata": {},
   "outputs": [],
   "source": []
  },
  {
   "cell_type": "code",
   "execution_count": null,
   "id": "53ad2ac7",
   "metadata": {},
   "outputs": [],
   "source": []
  },
  {
   "cell_type": "code",
   "execution_count": null,
   "id": "c3a6559d",
   "metadata": {},
   "outputs": [],
   "source": []
  },
  {
   "cell_type": "code",
   "execution_count": null,
   "id": "681513dc",
   "metadata": {},
   "outputs": [],
   "source": []
  },
  {
   "cell_type": "code",
   "execution_count": null,
   "id": "81914be9",
   "metadata": {},
   "outputs": [],
   "source": []
  }
 ],
 "metadata": {
  "kernelspec": {
   "display_name": "Python 3 (ipykernel)",
   "language": "python",
   "name": "python3"
  },
  "language_info": {
   "codemirror_mode": {
    "name": "ipython",
    "version": 3
   },
   "file_extension": ".py",
   "mimetype": "text/x-python",
   "name": "python",
   "nbconvert_exporter": "python",
   "pygments_lexer": "ipython3",
   "version": "3.11.4"
  }
 },
 "nbformat": 4,
 "nbformat_minor": 5
}
