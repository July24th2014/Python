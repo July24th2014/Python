{
 "cells": [
  {
   "cell_type": "code",
   "execution_count": 8,
   "id": "09022e04",
   "metadata": {},
   "outputs": [
    {
     "name": "stdout",
     "output_type": "stream",
     "text": [
      "small sale: []\n",
      "medium sale: [10]\n",
      "large sale [50, 70, 90, 120, 150, 200]\n"
     ]
    }
   ],
   "source": [
    "sale_amount = [10,50,70,90,120,150,200]\n",
    "\n",
    "small_sale = []\n",
    "medium_sale = []\n",
    "large_sale = []\n",
    "\n",
    "\n",
    "for sale in sale_amount:\n",
    "    if sale < 10:\n",
    "        small_sale.append(sale)\n",
    "    elif sale < 50:\n",
    "        medium_sale.append(sale)\n",
    "    else:\n",
    "        large_sale.append(sale)\n",
    "        \n",
    "print(\"small sale:\" ,small_sale)\n",
    "print(\"medium sale:\" ,medium_sale)\n",
    "print(\"large sale\" , large_sale)"
   ]
  },
  {
   "cell_type": "code",
   "execution_count": 14,
   "id": "03693db7",
   "metadata": {},
   "outputs": [
    {
     "name": "stdout",
     "output_type": "stream",
     "text": [
      "0 shushi\n",
      "1 rice cake\n",
      "2 rice\n",
      "3 rice balls\n"
     ]
    }
   ],
   "source": [
    "flavour_rice = ['shushi', 'rice cake', 'rice', 'rice balls']\n",
    "\n",
    "i = 0\n",
    "\n",
    "for rice in flavour_rice:\n",
    "    print(i,rice)\n",
    "    i += 1"
   ]
  },
  {
   "cell_type": "code",
   "execution_count": 21,
   "id": "8b383e38",
   "metadata": {},
   "outputs": [
    {
     "name": "stdout",
     "output_type": "stream",
     "text": [
      "Name\n",
      "Amount spend\n",
      "Item Purchased\n"
     ]
    }
   ],
   "source": [
    "customer_dictonaries = {'Name': 'John', 'Amount spend': 76, 'Item Purchased': ['shovel','dirt','pot']}\n",
    "\n",
    "for item in customer_dictonaries:\n",
    "    print(item)"
   ]
  },
  {
   "cell_type": "code",
   "execution_count": 26,
   "id": "3d3a7cb4",
   "metadata": {},
   "outputs": [
    {
     "name": "stdout",
     "output_type": "stream",
     "text": [
      "Name , John\n",
      "Amount spend , 76\n",
      "Item Purchased , ['shovel', 'dirt', 'pot']\n"
     ]
    }
   ],
   "source": [
    "for key, value in customer_dictonaries.items():\n",
    "    print(key,',', value)"
   ]
  },
  {
   "cell_type": "code",
   "execution_count": 27,
   "id": "3c5d17d5",
   "metadata": {},
   "outputs": [
    {
     "name": "stdout",
     "output_type": "stream",
     "text": [
      "i12 go with case black\n",
      "i12 go with case white\n",
      "i12 go with case yellow\n",
      "i13 go with case black\n",
      "i13 go with case white\n",
      "i13 go with case yellow\n",
      "i14 go with case black\n",
      "i14 go with case white\n",
      "i14 go with case yellow\n",
      "i15 go with case black\n",
      "i15 go with case white\n",
      "i15 go with case yellow\n"
     ]
    }
   ],
   "source": [
    "iphones = ['i12','i13','i14','i15']\n",
    "cases = ['black', 'white', 'yellow']\n",
    "\n",
    "for iphone in iphones:\n",
    "    for case in cases:\n",
    "        print(iphone , 'go with case', case)\n"
   ]
  },
  {
   "cell_type": "code",
   "execution_count": 32,
   "id": "25d680d0",
   "metadata": {},
   "outputs": [
    {
     "name": "stdout",
     "output_type": "stream",
     "text": [
      "Tim\n"
     ]
    }
   ],
   "source": [
    "my_friends = ['Tim', 'Her', 'Smith', 'Owen']\n",
    "\n",
    "i = 0\n",
    "\n",
    "while my_friends[i] != 'Her':\n",
    "    print(my_friends[i])\n",
    "    i += 1"
   ]
  },
  {
   "cell_type": "code",
   "execution_count": 3,
   "id": "3db781ac",
   "metadata": {},
   "outputs": [],
   "source": [
    "def first_function():\n",
    "    print('We did it!')"
   ]
  },
  {
   "cell_type": "code",
   "execution_count": 4,
   "id": "9ef2b37f",
   "metadata": {},
   "outputs": [
    {
     "name": "stdout",
     "output_type": "stream",
     "text": [
      "We did it!\n"
     ]
    }
   ],
   "source": [
    "first_function()"
   ]
  },
  {
   "cell_type": "code",
   "execution_count": 8,
   "id": "ada718ed",
   "metadata": {},
   "outputs": [],
   "source": [
    "def second_function(name):\n",
    "    print(name, 'did it!')"
   ]
  },
  {
   "cell_type": "code",
   "execution_count": 9,
   "id": "0ed3abdc",
   "metadata": {},
   "outputs": [
    {
     "name": "stdout",
     "output_type": "stream",
     "text": [
      "Alex did it!\n"
     ]
    }
   ],
   "source": [
    "second_function('Alex')"
   ]
  },
  {
   "cell_type": "code",
   "execution_count": null,
   "id": "b347bee1",
   "metadata": {},
   "outputs": [],
   "source": [
    "print()"
   ]
  },
  {
   "cell_type": "code",
   "execution_count": 10,
   "id": "9d10b667",
   "metadata": {},
   "outputs": [],
   "source": [
    "def test_func(name):\n",
    "    \"\"\" This is a docstring\n",
    "    \"\"\"\n",
    "    print(name)"
   ]
  },
  {
   "cell_type": "code",
   "execution_count": 11,
   "id": "5444e060",
   "metadata": {
    "scrolled": true
   },
   "outputs": [
    {
     "name": "stdout",
     "output_type": "stream",
     "text": [
      "A;ex\n"
     ]
    }
   ],
   "source": [
    "test_func('A;ex')"
   ]
  },
  {
   "cell_type": "code",
   "execution_count": 16,
   "id": "86778185",
   "metadata": {},
   "outputs": [
    {
     "name": "stdout",
     "output_type": "stream",
     "text": [
      "6\n"
     ]
    }
   ],
   "source": [
    "args_tuple = (2,3,5,1,2,5)\n",
    "\n",
    "def args_func(*number):\n",
    "    print(number[0]*number[1])\n",
    "    \n",
    "args_func(2,3,5,1,2,5)"
   ]
  },
  {
   "cell_type": "code",
   "execution_count": 21,
   "id": "8468c9cd",
   "metadata": {},
   "outputs": [],
   "source": [
    "tuple_1 = ('John', \"Smith\", \"Jack\")\n",
    "\n",
    "def number_arg(*words):\n",
    "    print(\"Hello\", words[2], \" - Nice To Meet You!\")"
   ]
  },
  {
   "cell_type": "code",
   "execution_count": 22,
   "id": "49b27a0f",
   "metadata": {},
   "outputs": [
    {
     "name": "stdout",
     "output_type": "stream",
     "text": [
      "Hello Jack  - Nice To Meet You!\n"
     ]
    }
   ],
   "source": [
    "number_arg(*tuple_1)"
   ]
  },
  {
   "cell_type": "code",
   "execution_count": 26,
   "id": "557a7a09",
   "metadata": {},
   "outputs": [],
   "source": [
    "def wild_function(one, *two, **three):\n",
    "    print(one)\n",
    "    \n",
    "    print(two[0], two[2])\n",
    "    \n",
    "    print(three.items())"
   ]
  },
  {
   "cell_type": "code",
   "execution_count": 28,
   "id": "0417c380",
   "metadata": {},
   "outputs": [
    {
     "name": "stdout",
     "output_type": "stream",
     "text": [
      "23\n",
      "Welp Howdy!\n",
      "dict_items([('One', 'Jonny'), ('Two', 'Enbezer'), ('Three', 'Kayne')])\n"
     ]
    }
   ],
   "source": [
    "my_dict2 = {'One': 'Jonny', 'Two': 'Enbezer', 'Three' : 'Kayne'}\n",
    "\n",
    "wild_function(23, *['Welp', 24, 'Howdy!'], **my_dict2)"
   ]
  },
  {
   "cell_type": "code",
   "execution_count": 38,
   "id": "96acf4a9",
   "metadata": {},
   "outputs": [],
   "source": [
    "exit"
   ]
  },
  {
   "cell_type": "code",
   "execution_count": 29,
   "id": "9cc632f9",
   "metadata": {},
   "outputs": [
    {
     "data": {
      "text/plain": [
       "<function __main__.<lambda>(x)>"
      ]
     },
     "execution_count": 29,
     "metadata": {},
     "output_type": "execute_result"
    }
   ],
   "source": [
    "lambda x: x * 2 "
   ]
  },
  {
   "cell_type": "code",
   "execution_count": 30,
   "id": "57326ec4",
   "metadata": {},
   "outputs": [
    {
     "data": {
      "text/plain": [
       "10"
      ]
     },
     "execution_count": 30,
     "metadata": {},
     "output_type": "execute_result"
    }
   ],
   "source": [
    "(lambda x: x * 2) (5) "
   ]
  },
  {
   "cell_type": "code",
   "execution_count": 32,
   "id": "de4f2c1c",
   "metadata": {},
   "outputs": [
    {
     "name": "stdout",
     "output_type": "stream",
     "text": [
      "10\n"
     ]
    }
   ],
   "source": [
    "def real_func(x):\n",
    "    print(x*2)\n",
    "    \n",
    "real_func(5)"
   ]
  },
  {
   "cell_type": "code",
   "execution_count": 2,
   "id": "0b97b182",
   "metadata": {},
   "outputs": [],
   "source": [
    "def return_example():\n",
    "    return 100"
   ]
  },
  {
   "cell_type": "code",
   "execution_count": 3,
   "id": "f5295598",
   "metadata": {},
   "outputs": [
    {
     "data": {
      "text/plain": [
       "100"
      ]
     },
     "execution_count": 3,
     "metadata": {},
     "output_type": "execute_result"
    }
   ],
   "source": [
    "return_example()"
   ]
  },
  {
   "cell_type": "code",
   "execution_count": 4,
   "id": "f4fbd07a",
   "metadata": {},
   "outputs": [
    {
     "data": {
      "text/plain": [
       "200"
      ]
     },
     "execution_count": 4,
     "metadata": {},
     "output_type": "execute_result"
    }
   ],
   "source": [
    "return_example() + 100 #return store the integer"
   ]
  },
  {
   "cell_type": "code",
   "execution_count": 6,
   "id": "4636d75d",
   "metadata": {},
   "outputs": [],
   "source": [
    "def print_example():\n",
    "    print(100)"
   ]
  },
  {
   "cell_type": "code",
   "execution_count": 7,
   "id": "a7f5b17e",
   "metadata": {},
   "outputs": [
    {
     "name": "stdout",
     "output_type": "stream",
     "text": [
      "100\n"
     ]
    }
   ],
   "source": [
    "print_example()"
   ]
  },
  {
   "cell_type": "code",
   "execution_count": 9,
   "id": "94850c22",
   "metadata": {},
   "outputs": [
    {
     "name": "stdout",
     "output_type": "stream",
     "text": [
      "100\n"
     ]
    },
    {
     "ename": "TypeError",
     "evalue": "unsupported operand type(s) for +: 'NoneType' and 'int'",
     "output_type": "error",
     "traceback": [
      "\u001b[1;31m---------------------------------------------------------------------------\u001b[0m",
      "\u001b[1;31mTypeError\u001b[0m                                 Traceback (most recent call last)",
      "Cell \u001b[1;32mIn[9], line 1\u001b[0m\n\u001b[1;32m----> 1\u001b[0m print_example() \u001b[38;5;241m+\u001b[39m \u001b[38;5;241m100\u001b[39m\n",
      "\u001b[1;31mTypeError\u001b[0m: unsupported operand type(s) for +: 'NoneType' and 'int'"
     ]
    }
   ],
   "source": [
    "print_example() + 100 "
   ]
  },
  {
   "cell_type": "code",
   "execution_count": 16,
   "id": "49873e7f",
   "metadata": {},
   "outputs": [],
   "source": [
    "def happy_birthday(Name):\n",
    "    return 'Happy Birthday ' + Name + '!!'"
   ]
  },
  {
   "cell_type": "code",
   "execution_count": 17,
   "id": "76377865",
   "metadata": {},
   "outputs": [
    {
     "data": {
      "text/plain": [
       "'Happy Birthday Jonny!!'"
      ]
     },
     "execution_count": 17,
     "metadata": {},
     "output_type": "execute_result"
    }
   ],
   "source": [
    "happy_birthday('Jonny')"
   ]
  },
  {
   "cell_type": "code",
   "execution_count": 18,
   "id": "3d6a6125",
   "metadata": {},
   "outputs": [],
   "source": [
    "message = happy_birthday('Jonny')"
   ]
  },
  {
   "cell_type": "code",
   "execution_count": 19,
   "id": "c8919860",
   "metadata": {},
   "outputs": [
    {
     "data": {
      "text/plain": [
       "'Happy Birthday Jonny!!'"
      ]
     },
     "execution_count": 19,
     "metadata": {},
     "output_type": "execute_result"
    }
   ],
   "source": [
    "message"
   ]
  },
  {
   "cell_type": "code",
   "execution_count": 1,
   "id": "2fea05fb",
   "metadata": {},
   "outputs": [
    {
     "name": "stdout",
     "output_type": "stream",
     "text": [
      "There was an error\n"
     ]
    }
   ],
   "source": [
    "x = 10\n",
    "y = 20\n",
    "\n",
    "try:\n",
    "    print(z)\n",
    "except:\n",
    "    print('There was an error')"
   ]
  },
  {
   "cell_type": "code",
   "execution_count": null,
   "id": "b14db482",
   "metadata": {},
   "outputs": [],
   "source": [
    "import os\n",
    "\n",
    "try \n",
    "    with open (r'C:\\Users\\chulu\\OneDrive\\Desktop\\Data\\world_population.csv') as open_file:\n",
    "        append_to_main = open_file.read()\n",
    "        print('Variable Created')\n",
    "except Exception as e:\n",
    "    print(e)\n",
    "else:\n",
    "        with open (path,'a') as open_file:\n",
    "        append_file.write(append_to_main) \n",
    "finally:\n",
    "    with open(path,'r') as open_file:\n",
    "        print(open_file.read())\n",
    "    \n"
   ]
  },
  {
   "cell_type": "code",
   "execution_count": null,
   "id": "42de53ee",
   "metadata": {},
   "outputs": [],
   "source": [
    "from bs4 import BeautifulSoup \n",
    "import requests\n",
    "\n",
    "url =''\n",
    "page = requests.get(url)\n",
    "soup = BeautifulSoup(page.text, 'html')\n",
    "\n",
    "all_phone_prices = soup.find_all('h4','pull-right price')\n",
    "\n",
    "all_phone_titles = soup.find_all('a','title')\n",
    "\n",
    "all_prices = [ prices.text for prices in all_phone_prices]\n",
    "print(all_prices)\n",
    "\n",
    "all_titles = [ titles.text for prices in all_phone_titles]\n",
    "print(all_titles)\n",
    "\n",
    "import pandas as pd\n",
    "\n",
    "pd.DataFrame(all_prices, all_titles, columns = ['Prices'])"
   ]
  },
  {
   "cell_type": "code",
   "execution_count": 2,
   "id": "ea8b39bd",
   "metadata": {},
   "outputs": [
    {
     "data": {
      "text/plain": [
       "<re.Match object; span=(7, 60), match=\"BEAUTIFUL day in the city. It's 75 degrees and su>"
      ]
     },
     "execution_count": 2,
     "metadata": {},
     "output_type": "execute_result"
    }
   ],
   "source": [
    "import re\n",
    "\n",
    "string = \"It's a BEAUTIFUL day in the city. It's 75 degrees and sunny!\"\n",
    "\n",
    "re.search(r\"(\\b[A-Z]+\\b).*()\",string)"
   ]
  },
  {
   "cell_type": "code",
   "execution_count": 5,
   "id": "f53a9a4b",
   "metadata": {},
   "outputs": [
    {
     "data": {
      "text/plain": [
       "['s', 'a', 'day', 'in', 'the', 'city', 's', 'degrees', 'and', 'sunny']"
      ]
     },
     "execution_count": 5,
     "metadata": {},
     "output_type": "execute_result"
    }
   ],
   "source": [
    "import re\n",
    "\n",
    "quote = \"It's a BEAUTIFUL day in the city. It's 75 degrees and sunny!\"\n",
    "\n",
    "re.findall(r\"\\b[a-z]+\\b\", quote)"
   ]
  },
  {
   "cell_type": "code",
   "execution_count": null,
   "id": "ce5da49b",
   "metadata": {},
   "outputs": [],
   "source": []
  },
  {
   "cell_type": "code",
   "execution_count": null,
   "id": "8968d162",
   "metadata": {},
   "outputs": [],
   "source": []
  },
  {
   "cell_type": "code",
   "execution_count": null,
   "id": "bcd39203",
   "metadata": {},
   "outputs": [],
   "source": []
  }
 ],
 "metadata": {
  "kernelspec": {
   "display_name": "Python 3 (ipykernel)",
   "language": "python",
   "name": "python3"
  },
  "language_info": {
   "codemirror_mode": {
    "name": "ipython",
    "version": 3
   },
   "file_extension": ".py",
   "mimetype": "text/x-python",
   "name": "python",
   "nbconvert_exporter": "python",
   "pygments_lexer": "ipython3",
   "version": "3.11.4"
  }
 },
 "nbformat": 4,
 "nbformat_minor": 5
}
