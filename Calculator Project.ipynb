{
 "cells": [
  {
   "cell_type": "code",
   "execution_count": 1,
   "id": "b87c1fde",
   "metadata": {},
   "outputs": [],
   "source": [
    "def add(x, y):\n",
    "    return x + y\n",
    "\n",
    "def substract(x, y):\n",
    "    return x - y\n",
    "\n",
    "def multiply(x, y):\n",
    "    return x * y\n",
    "\n",
    "def divide(x, y):\n",
    "    return x / y"
   ]
  },
  {
   "cell_type": "code",
   "execution_count": 2,
   "id": "6e05f6ea",
   "metadata": {},
   "outputs": [
    {
     "name": "stdout",
     "output_type": "stream",
     "text": [
      "Enter 'A' for Addition\n",
      "Enter 'S' for Substraction\n",
      "Enter 'M' for Multiplication\n",
      "Enter 'D' for Division\n",
      "Enter Choice (A,S,M,D): D\n",
      "Enter first number: 1\n",
      "Enter second number: 2\n",
      "Result:  1.0 / 2.0 = 0.5\n",
      "Do you wish to do another calculation: (yes,no?): yes\n",
      "Enter Choice (A,S,M,D): A\n",
      "Enter first number: 2\n",
      "Enter second number: 2\n",
      "Result:  2.0 + 2.0 = 4.0\n",
      "Do you wish to do another calculation: (yes,no?): no\n"
     ]
    }
   ],
   "source": [
    "print(\"Enter 'A' for Addition\")\n",
    "print(\"Enter 'S' for Substraction\")\n",
    "print(\"Enter 'M' for Multiplication\")\n",
    "print(\"Enter 'D' for Division\")\n",
    "\n",
    "\n",
    "while True:\n",
    "    choice = input('Enter Choice (A,S,M,D): ')\n",
    "        \n",
    "    if choice.upper() in ('A','ADD', 'ADDITION', 'S', 'SUBSTRACTION', 'SBUSTRACT','M','MULTIPLY', ' MULTIPLICATION','D', 'DIVIDE'):\n",
    "        num1 = float(input('Enter first number: '))\n",
    "        num2 = float(input('Enter second number: '))\n",
    "    \n",
    "        if choice.upper() in ('A','ADD', 'ADDITION'):\n",
    "            print('Result: ',num1, '+', num2, '=', add(num1,num2))\n",
    "        elif choice.upper() in ('S', 'SUBSTRACTION', 'SBUSTRACT'):\n",
    "            print('Result: ',num1, '-',num2, '=', substract(num1,num2))\n",
    "        elif choice.upper() in ('M','MULTIPLY', ' MULTIPLICATION'):\n",
    "            print('Result: ',num1, '*', num2, '=', multiply(num1,num2))\n",
    "        elif choice.upper() in ('D', 'DIVIDE'):\n",
    "            print('Result: ',num1, '/', num2, '=', divide(num1,num2))\n",
    "    else:\n",
    "        print('Please input a correct choice.')\n",
    "    \n",
    "    next_calculation = input ('Do you wish to do another calculation: (yes,no?): ')\n",
    "    if next_calculation.lower() in ('no','n','nope'):\n",
    "        break"
   ]
  },
  {
   "cell_type": "code",
   "execution_count": null,
   "id": "fab4e7c1",
   "metadata": {},
   "outputs": [],
   "source": []
  },
  {
   "cell_type": "code",
   "execution_count": null,
   "id": "7129eec7",
   "metadata": {},
   "outputs": [],
   "source": []
  },
  {
   "cell_type": "code",
   "execution_count": null,
   "id": "fd53a2f3",
   "metadata": {},
   "outputs": [],
   "source": []
  },
  {
   "cell_type": "code",
   "execution_count": null,
   "id": "7d5c5872",
   "metadata": {},
   "outputs": [],
   "source": []
  },
  {
   "cell_type": "code",
   "execution_count": null,
   "id": "8f45bafd",
   "metadata": {},
   "outputs": [],
   "source": []
  },
  {
   "cell_type": "code",
   "execution_count": null,
   "id": "0e40fd64",
   "metadata": {},
   "outputs": [],
   "source": []
  }
 ],
 "metadata": {
  "kernelspec": {
   "display_name": "Python 3 (ipykernel)",
   "language": "python",
   "name": "python3"
  },
  "language_info": {
   "codemirror_mode": {
    "name": "ipython",
    "version": 3
   },
   "file_extension": ".py",
   "mimetype": "text/x-python",
   "name": "python",
   "nbconvert_exporter": "python",
   "pygments_lexer": "ipython3",
   "version": "3.11.4"
  }
 },
 "nbformat": 4,
 "nbformat_minor": 5
}
