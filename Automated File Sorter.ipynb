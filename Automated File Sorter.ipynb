{
 "cells": [
  {
   "cell_type": "code",
   "execution_count": 1,
   "id": "bdde5ccc",
   "metadata": {},
   "outputs": [],
   "source": [
    "import os, shutil"
   ]
  },
  {
   "cell_type": "code",
   "execution_count": 6,
   "id": "982464fb",
   "metadata": {},
   "outputs": [],
   "source": [
    "path = r\"C:/Users/chulu/Python Test/\""
   ]
  },
  {
   "cell_type": "code",
   "execution_count": 8,
   "id": "be4f5138",
   "metadata": {},
   "outputs": [],
   "source": [
    "file_name=os.listdir(path)"
   ]
  },
  {
   "cell_type": "code",
   "execution_count": 36,
   "id": "777af85b",
   "metadata": {},
   "outputs": [],
   "source": [
    "folder_name = 'python files'\n",
    "\n",
    "if not os.path.exists(path + folder_name):\n",
    "        #print(path + folder_name)\n",
    "        os.makedirs(path + folder_name)"
   ]
  },
  {
   "cell_type": "code",
   "execution_count": 43,
   "id": "69a5b1e0",
   "metadata": {},
   "outputs": [],
   "source": [
    "for file in file_name:\n",
    "    if \".ipynb\" in file and not os.path.exists(path + \"python files/\" + file):\n",
    "        shutil.move(path + file, path + \"python files/\" + file)"
   ]
  },
  {
   "cell_type": "code",
   "execution_count": null,
   "id": "59ceb7e2",
   "metadata": {},
   "outputs": [],
   "source": []
  }
 ],
 "metadata": {
  "kernelspec": {
   "display_name": "Python 3 (ipykernel)",
   "language": "python",
   "name": "python3"
  },
  "language_info": {
   "codemirror_mode": {
    "name": "ipython",
    "version": 3
   },
   "file_extension": ".py",
   "mimetype": "text/x-python",
   "name": "python",
   "nbconvert_exporter": "python",
   "pygments_lexer": "ipython3",
   "version": "3.11.4"
  }
 },
 "nbformat": 4,
 "nbformat_minor": 5
}
